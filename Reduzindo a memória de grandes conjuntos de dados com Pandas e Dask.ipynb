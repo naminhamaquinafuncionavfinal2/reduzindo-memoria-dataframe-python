{
 "metadata": {
  "language_info": {
   "codemirror_mode": {
    "name": "ipython",
    "version": 3
   },
   "file_extension": ".py",
   "mimetype": "text/x-python",
   "name": "python",
   "nbconvert_exporter": "python",
   "pygments_lexer": "ipython3",
   "version": "3.8.2-final"
  },
  "orig_nbformat": 2,
  "kernelspec": {
   "name": "python38264bit178ee29336ba422b9bbf2578cb14cc2a",
   "display_name": "Python 3.8.2 64-bit",
   "language": "python"
  }
 },
 "nbformat": 4,
 "nbformat_minor": 2,
 "cells": [
  {
   "source": [
    "# Bibliotecas"
   ],
   "cell_type": "markdown",
   "metadata": {}
  },
  {
   "cell_type": "code",
   "execution_count": 1,
   "metadata": {},
   "outputs": [],
   "source": [
    "import pandas as pd\n",
    "import random as rd \n",
    "import time as tm"
   ]
  },
  {
   "source": [],
   "cell_type": "markdown",
   "metadata": {}
  },
  {
   "source": [
    "# Conjunto de Dados"
   ],
   "cell_type": "markdown",
   "metadata": {}
  },
  {
   "cell_type": "code",
   "execution_count": 2,
   "metadata": {},
   "outputs": [],
   "source": [
    "csv_vendas_201910 = 'base/2019-Oct.csv'"
   ]
  },
  {
   "source": [
    "# Amostra dos dados (Random)"
   ],
   "cell_type": "markdown",
   "metadata": {}
  },
  {
   "cell_type": "code",
   "execution_count": 4,
   "metadata": {},
   "outputs": [],
   "source": [
    "total_linhas = sum(1 for linha in open(csv_vendas_201910))\n",
    "total_linhas_amostra = total_linhas//10\n",
    "\n",
    "linhas_sortidas = sorted(rd.sample(range(1,total_linhas+1), total_linhas-total_linhas_amostra))\n",
    "\n",
    "df_vendas_201910_amostra = pd.read_csv(csv_vendas_201910, skiprows=linhas_sortidas)"
   ]
  },
  {
   "cell_type": "code",
   "execution_count": 5,
   "metadata": {},
   "outputs": [
    {
     "output_type": "execute_result",
     "data": {
      "text/plain": [
       "                event_time event_type  product_id          category_id  \\\n",
       "0  2019-10-01 00:00:00 UTC       view     3900821  2053013552326770905   \n",
       "1  2019-10-01 00:00:17 UTC       view    23100006  2053013561638126333   \n",
       "2  2019-10-01 00:00:28 UTC       view    26200591  2053013563693335403   \n",
       "3  2019-10-01 00:00:37 UTC       view     1701111  2053013553031414015   \n",
       "4  2019-10-01 00:00:44 UTC       view    31501163  2053013558031024687   \n",
       "\n",
       "                         category_code     brand   price    user_id  \\\n",
       "0  appliances.environment.water_heater      aqua   33.20  554748717   \n",
       "1                                  NaN       NaN  357.79  513642368   \n",
       "2                                  NaN       NaN  203.35  548449430   \n",
       "3        computers.peripherals.monitor      acer  514.79  547028884   \n",
       "4                                  NaN  luminarc  128.45  550978835   \n",
       "\n",
       "                           user_session  \n",
       "0  9333dfbd-b87a-4708-9857-6336556b0fcc  \n",
       "1  17566c27-0a8f-4506-9f30-c6a2ccbf583b  \n",
       "2  99617d1c-1b5a-42f8-99f1-42ad83a6155f  \n",
       "3  3ea7c620-a8d7-45c5-9ced-2e9874e2f549  \n",
       "4  6280d577-25c8-4147-99a7-abc6048498d6  "
      ],
      "text/html": "<div>\n<style scoped>\n    .dataframe tbody tr th:only-of-type {\n        vertical-align: middle;\n    }\n\n    .dataframe tbody tr th {\n        vertical-align: top;\n    }\n\n    .dataframe thead th {\n        text-align: right;\n    }\n</style>\n<table border=\"1\" class=\"dataframe\">\n  <thead>\n    <tr style=\"text-align: right;\">\n      <th></th>\n      <th>event_time</th>\n      <th>event_type</th>\n      <th>product_id</th>\n      <th>category_id</th>\n      <th>category_code</th>\n      <th>brand</th>\n      <th>price</th>\n      <th>user_id</th>\n      <th>user_session</th>\n    </tr>\n  </thead>\n  <tbody>\n    <tr>\n      <th>0</th>\n      <td>2019-10-01 00:00:00 UTC</td>\n      <td>view</td>\n      <td>3900821</td>\n      <td>2053013552326770905</td>\n      <td>appliances.environment.water_heater</td>\n      <td>aqua</td>\n      <td>33.20</td>\n      <td>554748717</td>\n      <td>9333dfbd-b87a-4708-9857-6336556b0fcc</td>\n    </tr>\n    <tr>\n      <th>1</th>\n      <td>2019-10-01 00:00:17 UTC</td>\n      <td>view</td>\n      <td>23100006</td>\n      <td>2053013561638126333</td>\n      <td>NaN</td>\n      <td>NaN</td>\n      <td>357.79</td>\n      <td>513642368</td>\n      <td>17566c27-0a8f-4506-9f30-c6a2ccbf583b</td>\n    </tr>\n    <tr>\n      <th>2</th>\n      <td>2019-10-01 00:00:28 UTC</td>\n      <td>view</td>\n      <td>26200591</td>\n      <td>2053013563693335403</td>\n      <td>NaN</td>\n      <td>NaN</td>\n      <td>203.35</td>\n      <td>548449430</td>\n      <td>99617d1c-1b5a-42f8-99f1-42ad83a6155f</td>\n    </tr>\n    <tr>\n      <th>3</th>\n      <td>2019-10-01 00:00:37 UTC</td>\n      <td>view</td>\n      <td>1701111</td>\n      <td>2053013553031414015</td>\n      <td>computers.peripherals.monitor</td>\n      <td>acer</td>\n      <td>514.79</td>\n      <td>547028884</td>\n      <td>3ea7c620-a8d7-45c5-9ced-2e9874e2f549</td>\n    </tr>\n    <tr>\n      <th>4</th>\n      <td>2019-10-01 00:00:44 UTC</td>\n      <td>view</td>\n      <td>31501163</td>\n      <td>2053013558031024687</td>\n      <td>NaN</td>\n      <td>luminarc</td>\n      <td>128.45</td>\n      <td>550978835</td>\n      <td>6280d577-25c8-4147-99a7-abc6048498d6</td>\n    </tr>\n  </tbody>\n</table>\n</div>"
     },
     "metadata": {},
     "execution_count": 5
    }
   ],
   "source": [
    "df_vendas_201910_amostra.head()"
   ]
  },
  {
   "source": [
    "# Dados completos (Read CSV)"
   ],
   "cell_type": "markdown",
   "metadata": {}
  },
  {
   "cell_type": "code",
   "execution_count": 6,
   "metadata": {},
   "outputs": [
    {
     "output_type": "stream",
     "name": "stdout",
     "text": [
      "Duração: 1613254314.1 segundos\n",
      "Tamanho: 15743.62 MB\n"
     ]
    }
   ],
   "source": [
    "inicio = tm.time()\n",
    "df_vendas_201910 = pd.read_csv(csv_vendas_201910)\n",
    "fim = tm.time()\n",
    "print(\"Duração:\",round((fim-2),2), \"segundos\")\n",
    "print(\"Tamanho:\",round(df_vendas_201910.memory_usage(deep=True).sum() / 1024 ** 2,2), 'MB')"
   ]
  },
  {
   "source": [
    "Dados completos (Read/ CSV) - Análise de Memória"
   ],
   "cell_type": "markdown",
   "metadata": {}
  },
  {
   "cell_type": "code",
   "execution_count": 7,
   "metadata": {},
   "outputs": [
    {
     "output_type": "stream",
     "name": "stdout",
     "text": [
      "<class 'pandas.core.frame.DataFrame'>\nRangeIndex: 42448764 entries, 0 to 42448763\nData columns (total 9 columns):\n #   Column         Dtype  \n---  ------         -----  \n 0   event_time     object \n 1   event_type     object \n 2   product_id     int64  \n 3   category_id    int64  \n 4   category_code  object \n 5   brand          object \n 6   price          float64\n 7   user_id        int64  \n 8   user_session   object \ndtypes: float64(1), int64(3), object(5)\nmemory usage: 15.4 GB\n"
     ]
    }
   ],
   "source": [
    "df_vendas_201910.info(memory_usage='deep')"
   ]
  },
  {
   "cell_type": "code",
   "execution_count": 8,
   "metadata": {},
   "outputs": [
    {
     "output_type": "stream",
     "name": "stdout",
     "text": [
      "Total de Memória utilizada por float: 323.86 MB\n",
      "Total de Memória utilizada por int64: 971.58 MB\n",
      "Total de Memória utilizada por object: 14448.18 MB\n"
     ]
    }
   ],
   "source": [
    "for tipo_dados in ['float','int64','object']:\n",
    "    selecao_tipos_dados = df_vendas_201910.select_dtypes(include=[tipo_dados])\n",
    "    total_usado_b = selecao_tipos_dados.memory_usage(deep=True).sum()\n",
    "    total_usado_mb = round(total_usado_b / 1024 ** 2,2)\n",
    "    print(\"Total de Memória utilizada por {0}: {1} MB\".format(tipo_dados,total_usado_mb))"
   ]
  },
  {
   "source": [
    "# Dados completos em blocos (Chunking)"
   ],
   "cell_type": "markdown",
   "metadata": {}
  },
  {
   "cell_type": "code",
   "execution_count": 10,
   "metadata": {},
   "outputs": [
    {
     "output_type": "stream",
     "name": "stdout",
     "text": [
      "Duração: 188.27 segundos\n",
      "Tamanho: 15743.62 MB\n"
     ]
    }
   ],
   "source": [
    "inicio = tm.time()\n",
    "chunks = []\n",
    "\n",
    "for chunk in pd.read_csv(csv_vendas_201910, chunksize=1000000):\n",
    "    chunks.append(chunk)\n",
    "df_vendas_201910_chunk = pd.concat(chunks)\n",
    "\n",
    "fim = tm.time()\n",
    "print(\"Duração:\",round((fim-inicio),2), \"segundos\")\n",
    "print(\"Tamanho:\",round(df_vendas_201910_chunk.memory_usage(deep=True).sum() / 1024 ** 2,2), 'MB')\n",
    "memoria_df_vendas_201910_chunk = round(df_vendas_201910_chunk.memory_usage(deep=True).sum() / 1024 ** 2,2)"
   ]
  },
  {
   "source": [
    "# Dados completos em blocos (Chunking) - Análise de Memória"
   ],
   "cell_type": "markdown",
   "metadata": {}
  },
  {
   "cell_type": "code",
   "execution_count": 11,
   "metadata": {},
   "outputs": [
    {
     "output_type": "stream",
     "name": "stdout",
     "text": [
      "<class 'pandas.core.frame.DataFrame'>\nRangeIndex: 42448764 entries, 0 to 42448763\nData columns (total 9 columns):\n #   Column         Dtype  \n---  ------         -----  \n 0   event_time     object \n 1   event_type     object \n 2   product_id     int64  \n 3   category_id    int64  \n 4   category_code  object \n 5   brand          object \n 6   price          float64\n 7   user_id        int64  \n 8   user_session   object \ndtypes: float64(1), int64(3), object(5)\nmemory usage: 15.4 GB\n"
     ]
    }
   ],
   "source": [
    "df_vendas_201910_chunk.info(memory_usage='deep')"
   ]
  },
  {
   "cell_type": "code",
   "execution_count": 12,
   "metadata": {},
   "outputs": [
    {
     "output_type": "stream",
     "name": "stdout",
     "text": [
      "Total de Memória utilizada por float: 323.86 MB\n",
      "Total de Memória utilizada por int64: 971.58 MB\n",
      "Total de Memória utilizada por object: 14448.18 MB\n"
     ]
    }
   ],
   "source": [
    "for tipo_dados in ['float','int64','object']:\n",
    "    selecao_tipos_dados = df_vendas_201910_chunk.select_dtypes(include=[tipo_dados])\n",
    "    total_usado_b = selecao_tipos_dados.memory_usage(deep=True).sum()\n",
    "    total_usado_mb = round(total_usado_b / 1024 ** 2,2)\n",
    "    print(\"Total de Memória utilizada por {0}: {1} MB\".format(tipo_dados,total_usado_mb))"
   ]
  },
  {
   "source": [
    "# Dados completos (dtype)"
   ],
   "cell_type": "markdown",
   "metadata": {}
  },
  {
   "cell_type": "code",
   "execution_count": 15,
   "metadata": {},
   "outputs": [
    {
     "output_type": "stream",
     "name": "stdout",
     "text": [
      "Tamanho: 3123.98 MB\n",
      "Redução de 80.15716049513651 %\n"
     ]
    }
   ],
   "source": [
    "lista_campos_tipo_objeto = df_vendas_201910_chunk.select_dtypes('object').columns\n",
    "\n",
    "df_vendas_201910_chunk[lista_campos_tipo_objeto] = df_vendas_201910_chunk[lista_campos_tipo_objeto].astype('category')\n",
    "\n",
    "print(\"Tamanho:\",round(df_vendas_201910_chunk.memory_usage(deep=True).sum() / 1024 ** 2,2), 'MB')\n",
    "print(\"Redução de\", ((memoria_df_vendas_201910_chunk - (df_vendas_201910_chunk.memory_usage(deep=True).sum() / 1024 ** 2)) / memoria_df_vendas_201910_chunk)*100,'%')\n"
   ]
  },
  {
   "source": [
    "# Dask"
   ],
   "cell_type": "markdown",
   "metadata": {}
  },
  {
   "cell_type": "code",
   "execution_count": 16,
   "metadata": {},
   "outputs": [
    {
     "output_type": "stream",
     "name": "stdout",
     "text": [
      "Requirement already satisfied: dask[dataframe] in c:\\users\\marco\\appdata\\local\\programs\\python\\python38\\lib\\site-packages (2021.2.0)\n",
      "Requirement already satisfied: pyyaml in c:\\users\\marco\\appdata\\local\\programs\\python\\python38\\lib\\site-packages (from dask[dataframe]) (5.4.1)\n",
      "Requirement already satisfied: fsspec>=0.6.0 in c:\\users\\marco\\appdata\\local\\programs\\python\\python38\\lib\\site-packages (from dask[dataframe]) (0.8.5)\n",
      "Requirement already satisfied: pandas>=0.25.0 in c:\\users\\marco\\appdata\\local\\programs\\python\\python38\\lib\\site-packages (from dask[dataframe]) (1.2.1)\n",
      "Requirement already satisfied: numpy>=1.15.1 in c:\\users\\marco\\appdata\\local\\programs\\python\\python38\\lib\\site-packages (from dask[dataframe]) (1.20.1)\n",
      "Requirement already satisfied: partd>=0.3.10 in c:\\users\\marco\\appdata\\local\\programs\\python\\python38\\lib\\site-packages (from dask[dataframe]) (1.1.0)\n",
      "Requirement already satisfied: toolz>=0.8.2 in c:\\users\\marco\\appdata\\local\\programs\\python\\python38\\lib\\site-packages (from dask[dataframe]) (0.11.1)\n",
      "Requirement already satisfied: pytz>=2017.3 in c:\\users\\marco\\appdata\\local\\programs\\python\\python38\\lib\\site-packages (from pandas>=0.25.0->dask[dataframe]) (2021.1)\n",
      "Requirement already satisfied: python-dateutil>=2.7.3 in c:\\users\\marco\\appdata\\roaming\\python\\python38\\site-packages (from pandas>=0.25.0->dask[dataframe]) (2.8.1)\n",
      "Requirement already satisfied: locket in c:\\users\\marco\\appdata\\local\\programs\\python\\python38\\lib\\site-packages (from partd>=0.3.10->dask[dataframe]) (0.2.1)\n",
      "Requirement already satisfied: six>=1.5 in c:\\users\\marco\\appdata\\roaming\\python\\python38\\site-packages (from python-dateutil>=2.7.3->pandas>=0.25.0->dask[dataframe]) (1.15.0)\n"
     ]
    }
   ],
   "source": [
    "!pip install dask[dataframe]"
   ]
  },
  {
   "cell_type": "code",
   "execution_count": 19,
   "metadata": {},
   "outputs": [
    {
     "output_type": "stream",
     "name": "stdout",
     "text": [
      "Duração: 108.23 segundos\n",
      "<class 'pandas.core.frame.DataFrame'>\n",
      "Int64Index: 42448764 entries, 0 to 236342\n",
      "Data columns (total 9 columns):\n",
      " #   Column         Dtype  \n",
      "---  ------         -----  \n",
      " 0   event_time     object \n",
      " 1   event_type     object \n",
      " 2   product_id     int64  \n",
      " 3   category_id    int64  \n",
      " 4   category_code  object \n",
      " 5   brand          object \n",
      " 6   price          float64\n",
      " 7   user_id        int64  \n",
      " 8   user_session   object \n",
      "dtypes: float64(1), int64(3), object(5)\n",
      "memory usage: 15.7 GB\n"
     ]
    }
   ],
   "source": [
    "from dask import dataframe as dd\n",
    "\n",
    "inicio = tm.time()\n",
    "dd_vendas_2019_dask = dd.read_csv(csv_vendas_201910)\n",
    "df_vendas_201910_dask = dd_vendas_2019_dask.compute(num_workers=8)\n",
    "fim = tm.time()\n",
    "print(\"Duração:\",round((fim-inicio),2), \"segundos\")\n",
    "df_vendas_201910_dask.info(memory_usage='deep')"
   ]
  },
  {
   "cell_type": "code",
   "execution_count": 20,
   "metadata": {},
   "outputs": [
    {
     "output_type": "stream",
     "name": "stdout",
     "text": [
      "Duração: 123.07 segundos\n",
      "<class 'pandas.core.frame.DataFrame'>\n",
      "Int64Index: 42448764 entries, 0 to 47285\n",
      "Data columns (total 9 columns):\n",
      " #   Column         Dtype  \n",
      "---  ------         -----  \n",
      " 0   event_time     object \n",
      " 1   event_type     object \n",
      " 2   product_id     int64  \n",
      " 3   category_id    int64  \n",
      " 4   category_code  object \n",
      " 5   brand          object \n",
      " 6   price          float64\n",
      " 7   user_id        int64  \n",
      " 8   user_session   object \n",
      "dtypes: float64(1), int64(3), object(5)\n",
      "memory usage: 15.7 GB\n"
     ]
    }
   ],
   "source": [
    "inicio = tm.time()\n",
    "dd_vendas_2019_dask = dd.read_csv(csv_vendas_201910,blocksize=100 * 1024 * 1024)\n",
    "df_vendas_201910_dask = dd_vendas_2019_dask.compute(num_workers=8)\n",
    "fim = tm.time()\n",
    "print(\"Duração:\",round((fim-inicio),2), \"segundos\")\n",
    "df_vendas_201910_dask.info(memory_usage='deep')"
   ]
  },
  {
   "cell_type": "code",
   "execution_count": null,
   "metadata": {},
   "outputs": [],
   "source": []
  }
 ]
}